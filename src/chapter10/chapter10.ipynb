{
 "cells": [
  {
   "cell_type": "code",
   "execution_count": 3,
   "id": "initial_id",
   "metadata": {
    "ExecuteTime": {
     "end_time": "2025-07-24T00:42:20.032555Z",
     "start_time": "2025-07-24T00:42:19.833880Z"
    },
    "collapsed": true
   },
   "outputs": [
    {
     "data": {
      "text/plain": [
       "'%.3f'"
      ]
     },
     "execution_count": 3,
     "metadata": {},
     "output_type": "execute_result"
    }
   ],
   "source": [
    "# データ加工・処理・分析ライブラリ\n",
    "import numpy as np\n",
    "import numpy.random as random\n",
    "import scipy as sp\n",
    "from pandas import Series, DataFrame\n",
    "import pandas as pd\n",
    "\n",
    "# 可視化ライブラリ\n",
    "import matplotlib.pyplot as plt\n",
    "import matplotlib as mpl\n",
    "import seaborn as sns\n",
    "%matplotlib inline\n",
    "sns.set()\n",
    "\n",
    "\n",
    "# 機械学習ライブラリ\n",
    "import sklearn\n",
    "\n",
    "# 小数第3位まで表示\n",
    "%precision 3"
   ]
  },
  {
   "cell_type": "code",
   "execution_count": 4,
   "id": "43990e4fb3e29775",
   "metadata": {
    "ExecuteTime": {
     "end_time": "2025-07-24T13:02:43.321934Z",
     "start_time": "2025-07-24T13:02:42.243094Z"
    }
   },
   "outputs": [
    {
     "name": "stdout",
     "output_type": "stream",
     "text": [
      "Cross validation scores: [0.904 0.912 0.956 0.939 0.956]\n",
      "Cross validation scores: 0.933±0.022\n",
      "Cross validation scores: 0.933±0.024\n"
     ]
    }
   ],
   "source": [
    "# 必要なライブラリ等のインポート\n",
    "from sklearn.datasets import load_breast_cancer\n",
    "from sklearn.tree import DecisionTreeClassifier\n",
    "from sklearn.model_selection import cross_val_score\n",
    "\n",
    "# 乳がんのデータを読み込み\n",
    "cancer = load_breast_cancer()\n",
    "\n",
    "# 決定木クラスの初期化\n",
    "tree = DecisionTreeClassifier(criterion='entropy', max_depth=3, random_state=0)\n",
    "\n",
    "# k分割交差検証の実行\n",
    "scores = cross_val_score(tree, cancer.data, cancer.target, cv=5)\n",
    "\n",
    "# 結果の表示\n",
    "print('Cross validation scores: {}'.format(scores))\n",
    "print('Cross validation scores: {:.3f}±{:.3f}'.format(scores.mean(), scores.std()))\n",
    "print('Cross validation scores: {:.3f}±{:.3f}'.format(scores.mean(), scores.std(ddof=1)))"
   ]
  },
  {
   "cell_type": "code",
   "execution_count": 5,
   "id": "84537fb43661704d",
   "metadata": {
    "ExecuteTime": {
     "end_time": "2025-07-24T13:10:27.016942Z",
     "start_time": "2025-07-24T13:10:26.424949Z"
    }
   },
   "outputs": [
    {
     "name": "stdout",
     "output_type": "stream",
     "text": [
      "Cross validation scores: [0.939 0.947 0.982 0.93  0.965]\n",
      "Cross validation scores: 0.953±0.019\n"
     ]
    }
   ],
   "source": [
    "# Practice 10-1\n",
    "# ロジスティック回帰のインポート\n",
    "from sklearn.linear_model import LogisticRegression\n",
    "# ロジスティック回帰クラスの初期化\n",
    "log_reg = LogisticRegression(max_iter=10000, random_state=0)\n",
    "# k分割交差検証の実行\n",
    "scores = cross_val_score(log_reg, cancer.data, cancer.target, cv=5)\n",
    "\n",
    "# 結果の表示\n",
    "print('Cross validation scores: {}'.format(scores))\n",
    "print('Cross validation scores: {:.3f}±{:.3f}'.format(scores.mean(), scores.std()))"
   ]
  },
  {
   "cell_type": "code",
   "execution_count": 6,
   "id": "bc83436e659fcb51",
   "metadata": {
    "ExecuteTime": {
     "end_time": "2025-07-24T13:40:04.960323Z",
     "start_time": "2025-07-24T13:40:04.598586Z"
    }
   },
   "outputs": [
    {
     "name": "stdout",
     "output_type": "stream",
     "text": [
      "ベストスコア: 0.91\n",
      "その時のパラメータ (gamma, C): (np.float64(0.001), np.float64(1.0))\n"
     ]
    },
    {
     "data": {
      "text/plain": [
       "<Axes: >"
      ]
     },
     "execution_count": 6,
     "metadata": {},
     "output_type": "execute_result"
    },
    {
     "data": {
      "image/png": "[encoded data removed]",
      "text/plain": [
       "<Figure size 640x480 with 2 Axes>"
      ]
     },
     "metadata": {},
     "output_type": "display_data"
    }
   ],
   "source": [
    "# インポート\n",
    "from sklearn.svm import SVC\n",
    "from sklearn.model_selection import train_test_split\n",
    "\n",
    "# 乳がんのデータを読み込み\n",
    "cancer = load_breast_cancer()\n",
    "\n",
    "# 訓練データとテストデータに分ける\n",
    "X_train, X_test, y_train, y_test = train_test_split(cancer.data,\n",
    "                                                    cancer.target,\n",
    "                                                    stratify = cancer.target,\n",
    "                                                    random_state=0)\n",
    "\n",
    "# ハイパーパラメータのすべての組み合わせでモデルを構築・検証\n",
    "scores = {}\n",
    "for gamma in np.logspace(-3, 2, num=6):\n",
    "    for C in np.logspace(-3, 2, num=6):\n",
    "        svm = SVC(gamma=gamma, C=C)\n",
    "        svm.fit(X_train, y_train)\n",
    "        scores[(gamma, C)] = svm.score(X_test, y_test)\n",
    "\n",
    "# 検証結果をscoresに格納\n",
    "scores = pd.Series(scores)\n",
    "\n",
    "# 表示\n",
    "print('ベストスコア: {:.2f}'.format(scores.max()))\n",
    "print('その時のパラメータ (gamma, C): {}'.format(scores.idxmax()))\n",
    "\n",
    "# ヒートマップを表示。縦軸にgamma、横軸にCを表示\n",
    "sns.heatmap(scores.unstack())"
   ]
  },
  {
   "cell_type": "code",
   "execution_count": 7,
   "id": "67917c05218e9252",
   "metadata": {
    "ExecuteTime": {
     "end_time": "2025-07-26T01:27:01.258127Z",
     "start_time": "2025-07-26T01:27:00.587211Z"
    }
   },
   "outputs": [
    {
     "name": "stdout",
     "output_type": "stream",
     "text": [
      "Best cross validation score:0.925\n",
      "Best parameters:{'C': np.float64(1.0), 'gamma': np.float64(0.001)}\n",
      "Test score:0.909\n"
     ]
    }
   ],
   "source": [
    "# インポート\n",
    "from sklearn.model_selection import GridSearchCV\n",
    "from sklearn.svm import SVC\n",
    "\n",
    "# 乳がんのデータを読み込み\n",
    "cancer = load_breast_cancer()\n",
    "\n",
    "# 訓練データとテストデータに分ける\n",
    "X_train, X_test, y_train, y_test = train_test_split(cancer.data,\n",
    "                                                    cancer.target,\n",
    "                                                    stratify = cancer.target,\n",
    "                                                    random_state=0)\n",
    "\n",
    "# GridSearchCVクラスに与えるパラメータを準備\n",
    "param_grid = { 'C': np.logspace(-3, 2, num=6)\n",
    "    ,'gamma':np.logspace(-3, 2, num=6)}\n",
    "\n",
    "# GridSearchCVクラスの初期化\n",
    "gs = GridSearchCV(estimator=SVC(),\n",
    "                  param_grid=param_grid,\n",
    "                  cv=5)\n",
    "\n",
    "# ハイパーパラメータの組み合わせの検証とベストモデルの構築\n",
    "gs.fit(X_train, y_train)\n",
    "\n",
    "# 表示\n",
    "print('Best cross validation score:{:.3f}'.format(gs.best_score_))\n",
    "print('Best parameters:{}'.format(gs.best_params_))\n",
    "print('Test score:{:.3f}'.format(gs.score(X_test, y_test)))\n"
   ]
  },
  {
   "cell_type": "code",
   "execution_count": 8,
   "id": "264c0663105d5ef8",
   "metadata": {
    "ExecuteTime": {
     "end_time": "2025-07-26T01:52:59.225211Z",
     "start_time": "2025-07-26T01:52:58.773407Z"
    }
   },
   "outputs": [
    {
     "name": "stdout",
     "output_type": "stream",
     "text": [
      "Best cross validation score:0.951\n"
     ]
    }
   ],
   "source": [
    "# 乳がんデータに対して決定木でグリットサーチを行う\n",
    "from sklearn.datasets import load_breast_cancer\n",
    "from sklearn.tree import DecisionTreeClassifier\n",
    "from sklearn.model_selection import GridSearchCV\n",
    "# 乳がんのデータを読み込み\n",
    "cancer = load_breast_cancer()\n",
    "# 訓練データとテストデータに分ける\n",
    "from sklearn.model_selection import train_test_split\n",
    "X_train, X_test, y_train, y_test = train_test_split(cancer.data,\n",
    "                                                    cancer.target,\n",
    "                                                    stratify = cancer.target, # 分割の比率を保つために指定\n",
    "                                                    random_state=0) # 乱数のシードを指定\n",
    "# GridSearchCVクラスに与えるパラメータを準備\n",
    "param_grid = {'criterion': ['gini', 'entropy'],\n",
    "              'max_depth': [2, 3, 4, 5,],\n",
    "              'min_samples_leaf': [2,3, 4, 5]}\n",
    "# GridSearchCVクラスの初期化\n",
    "gs = GridSearchCV(estimator=DecisionTreeClassifier(random_state=0),\n",
    "                  param_grid=param_grid,\n",
    "                  cv=5)\n",
    "# ハイパーパラメータの組み合わせの検証とベストモデルの構築\n",
    "gs.fit(X_train, y_train)\n",
    "# 表示\n",
    "print('Best cross validation score:{:.3f}'.format(gs.best_score_))"
   ]
  },
  {
   "cell_type": "code",
   "execution_count": 9,
   "id": "c4531b82",
   "metadata": {},
   "outputs": [
    {
     "name": "stdout",
     "output_type": "stream",
     "text": [
      "SVC train score: 0.979\n",
      "SVC test score: 0.909\n"
     ]
    }
   ],
   "source": [
    "# インポート\n",
    "from sklearn.svm import SVC\n",
    "\n",
    "# 乳がんのデータを読み込み\n",
    "cancer = load_breast_cancer()\n",
    "\n",
    "# 訓練データとテストデータに分ける\n",
    "X_train, X_test, y_train, y_test = train_test_split(cancer.data,\n",
    "                                                    cancer.target,\n",
    "                                                    stratify=cancer.target,\n",
    "                                                    random_state=66)\n",
    "\n",
    "# クラスの初期化と学習\n",
    "model = SVC(gamma=0.001,C=1)\n",
    "model.fit(X_train,y_train)\n",
    "\n",
    "# 表示\n",
    "print('{} train score: {:.3f}'.format(model.__class__.__name__, model.score(X_train,y_train)))\n",
    "print('{} test score: {:.3f}'.format(model.__class__.__name__, model.score(X_test,y_test)))"
   ]
  },
  {
   "cell_type": "code",
   "execution_count": 10,
   "id": "41205c44",
   "metadata": {},
   "outputs": [
    {
     "name": "stdout",
     "output_type": "stream",
     "text": [
      "Confusion matrix:\n",
      "[[48  5]\n",
      " [ 8 82]]\n"
     ]
    }
   ],
   "source": [
    "# インポート\n",
    "from sklearn.metrics import confusion_matrix\n",
    "\n",
    "# テストデータを使って予測値を算出\n",
    "y_pred = model.predict(X_test)\n",
    "\n",
    "m = confusion_matrix(y_test, y_pred)\n",
    "print('Confusion matrix:\\n{}'.format(m))"
   ]
  },
  {
   "cell_type": "code",
   "execution_count": 11,
   "id": "11560b62",
   "metadata": {},
   "outputs": [
    {
     "name": "stdout",
     "output_type": "stream",
     "text": [
      "適合率：0.943\n",
      "再現率：0.911\n",
      "F1値：0.927\n"
     ]
    }
   ],
   "source": [
    "# 適合率の計算\n",
    "precision = (m[1,1])/m[:, 1].sum()\n",
    "\n",
    "# 再現率の計算\n",
    "recall = (m[1,1])/m[1, :].sum()\n",
    "\n",
    "# F1スコアの計算\n",
    "f1 = 2 * (precision * recall)/(precision + recall)\n",
    "\n",
    "print('適合率：{:.3f}'.format(precision))\n",
    "print('再現率：{:.3f}'.format(recall))\n",
    "print('F1値：{:.3f}'.format(f1))\n"
   ]
  },
  {
   "cell_type": "code",
   "execution_count": 12,
   "id": "9654ffad",
   "metadata": {},
   "outputs": [
    {
     "name": "stderr",
     "output_type": "stream",
     "text": [
      "/Users/kouhei/Program/ML/data-scientist-training-course/.venv/lib/python3.11/site-packages/sklearn/linear_model/_logistic.py:465: ConvergenceWarning: lbfgs failed to converge (status=1):\n",
      "STOP: TOTAL NO. OF ITERATIONS REACHED LIMIT.\n",
      "\n",
      "Increase the number of iterations (max_iter) or scale the data as shown in:\n",
      "    https://scikit-learn.org/stable/modules/preprocessing.html\n",
      "Please also refer to the documentation for alternative solver options:\n",
      "    https://scikit-learn.org/stable/modules/linear_model.html#logistic-regression\n",
      "  n_iter_i = _check_optimize_result(\n"
     ]
    },
    {
     "data": {
      "text/html": [
       "<div>\n",
       "<style scoped>\n",
       "    .dataframe tbody tr th:only-of-type {\n",
       "        vertical-align: middle;\n",
       "    }\n",
       "\n",
       "    .dataframe tbody tr th {\n",
       "        vertical-align: top;\n",
       "    }\n",
       "\n",
       "    .dataframe thead th {\n",
       "        text-align: right;\n",
       "    }\n",
       "</style>\n",
       "<table border=\"1\" class=\"dataframe\">\n",
       "  <thead>\n",
       "    <tr style=\"text-align: right;\">\n",
       "      <th></th>\n",
       "      <th>malignant</th>\n",
       "      <th>benign</th>\n",
       "    </tr>\n",
       "  </thead>\n",
       "  <tbody>\n",
       "    <tr>\n",
       "      <th>0</th>\n",
       "      <td>0.004582</td>\n",
       "      <td>0.995418</td>\n",
       "    </tr>\n",
       "    <tr>\n",
       "      <th>1</th>\n",
       "      <td>0.000445</td>\n",
       "      <td>0.999555</td>\n",
       "    </tr>\n",
       "    <tr>\n",
       "      <th>2</th>\n",
       "      <td>0.033891</td>\n",
       "      <td>0.966109</td>\n",
       "    </tr>\n",
       "    <tr>\n",
       "      <th>3</th>\n",
       "      <td>0.007475</td>\n",
       "      <td>0.992525</td>\n",
       "    </tr>\n",
       "    <tr>\n",
       "      <th>4</th>\n",
       "      <td>0.003390</td>\n",
       "      <td>0.996610</td>\n",
       "    </tr>\n",
       "  </tbody>\n",
       "</table>\n",
       "</div>"
      ],
      "text/plain": [
       "   malignant    benign\n",
       "0   0.004582  0.995418\n",
       "1   0.000445  0.999555\n",
       "2   0.033891  0.966109\n",
       "3   0.007475  0.992525\n",
       "4   0.003390  0.996610"
      ]
     },
     "execution_count": 12,
     "metadata": {},
     "output_type": "execute_result"
    }
   ],
   "source": [
    "# インポート\n",
    "from sklearn.linear_model import LogisticRegression\n",
    "\n",
    "# 乳がんのデータを読み込み\n",
    "cancer = load_breast_cancer()\n",
    "\n",
    "# 訓練データとテストデータに分ける\n",
    "X_train, X_test, y_train, y_test = train_test_split(cancer.data,\n",
    "                                                    cancer.target,\n",
    "                                                    stratify = cancer.target,\n",
    "                                                    random_state=66)\n",
    "\n",
    "# LogisticRegression クラスの初期化と学習\n",
    "model = LogisticRegression(random_state=0)\n",
    "model.fit(X_train, y_train)\n",
    "\n",
    "# テスト用データの予測確率を計算\n",
    "results = pd.DataFrame(model.predict_proba(X_test), columns=cancer.target_names)\n",
    "\n",
    "# 先頭の5行を表示\n",
    "results.head()"
   ]
  },
  {
   "cell_type": "code",
   "execution_count": 13,
   "id": "a686284a",
   "metadata": {},
   "outputs": [
    {
     "data": {
      "text/html": [
       "<div>\n",
       "<style scoped>\n",
       "    .dataframe tbody tr th:only-of-type {\n",
       "        vertical-align: middle;\n",
       "    }\n",
       "\n",
       "    .dataframe tbody tr th {\n",
       "        vertical-align: top;\n",
       "    }\n",
       "\n",
       "    .dataframe thead th {\n",
       "        text-align: right;\n",
       "    }\n",
       "</style>\n",
       "<table border=\"1\" class=\"dataframe\">\n",
       "  <thead>\n",
       "    <tr style=\"text-align: right;\">\n",
       "      <th></th>\n",
       "      <th>malignant</th>\n",
       "      <th>benign</th>\n",
       "      <th>flag_0.4</th>\n",
       "      <th>flag_0.3</th>\n",
       "      <th>flag_0.15</th>\n",
       "      <th>flag_0.05</th>\n",
       "    </tr>\n",
       "  </thead>\n",
       "  <tbody>\n",
       "    <tr>\n",
       "      <th>0</th>\n",
       "      <td>0.004582</td>\n",
       "      <td>0.995418</td>\n",
       "      <td>1</td>\n",
       "      <td>1</td>\n",
       "      <td>1</td>\n",
       "      <td>1</td>\n",
       "    </tr>\n",
       "    <tr>\n",
       "      <th>1</th>\n",
       "      <td>0.000445</td>\n",
       "      <td>0.999555</td>\n",
       "      <td>1</td>\n",
       "      <td>1</td>\n",
       "      <td>1</td>\n",
       "      <td>1</td>\n",
       "    </tr>\n",
       "    <tr>\n",
       "      <th>2</th>\n",
       "      <td>0.033891</td>\n",
       "      <td>0.966109</td>\n",
       "      <td>1</td>\n",
       "      <td>1</td>\n",
       "      <td>1</td>\n",
       "      <td>1</td>\n",
       "    </tr>\n",
       "    <tr>\n",
       "      <th>3</th>\n",
       "      <td>0.007475</td>\n",
       "      <td>0.992525</td>\n",
       "      <td>1</td>\n",
       "      <td>1</td>\n",
       "      <td>1</td>\n",
       "      <td>1</td>\n",
       "    </tr>\n",
       "    <tr>\n",
       "      <th>4</th>\n",
       "      <td>0.003390</td>\n",
       "      <td>0.996610</td>\n",
       "      <td>1</td>\n",
       "      <td>1</td>\n",
       "      <td>1</td>\n",
       "      <td>1</td>\n",
       "    </tr>\n",
       "    <tr>\n",
       "      <th>5</th>\n",
       "      <td>0.006906</td>\n",
       "      <td>0.993094</td>\n",
       "      <td>1</td>\n",
       "      <td>1</td>\n",
       "      <td>1</td>\n",
       "      <td>1</td>\n",
       "    </tr>\n",
       "    <tr>\n",
       "      <th>6</th>\n",
       "      <td>0.008092</td>\n",
       "      <td>0.991908</td>\n",
       "      <td>1</td>\n",
       "      <td>1</td>\n",
       "      <td>1</td>\n",
       "      <td>1</td>\n",
       "    </tr>\n",
       "    <tr>\n",
       "      <th>7</th>\n",
       "      <td>0.003062</td>\n",
       "      <td>0.996938</td>\n",
       "      <td>1</td>\n",
       "      <td>1</td>\n",
       "      <td>1</td>\n",
       "      <td>1</td>\n",
       "    </tr>\n",
       "    <tr>\n",
       "      <th>8</th>\n",
       "      <td>0.870774</td>\n",
       "      <td>0.129226</td>\n",
       "      <td>0</td>\n",
       "      <td>0</td>\n",
       "      <td>0</td>\n",
       "      <td>1</td>\n",
       "    </tr>\n",
       "    <tr>\n",
       "      <th>9</th>\n",
       "      <td>0.862584</td>\n",
       "      <td>0.137416</td>\n",
       "      <td>0</td>\n",
       "      <td>0</td>\n",
       "      <td>0</td>\n",
       "      <td>1</td>\n",
       "    </tr>\n",
       "  </tbody>\n",
       "</table>\n",
       "</div>"
      ],
      "text/plain": [
       "   malignant    benign  flag_0.4  flag_0.3  flag_0.15  flag_0.05\n",
       "0   0.004582  0.995418         1         1          1          1\n",
       "1   0.000445  0.999555         1         1          1          1\n",
       "2   0.033891  0.966109         1         1          1          1\n",
       "3   0.007475  0.992525         1         1          1          1\n",
       "4   0.003390  0.996610         1         1          1          1\n",
       "5   0.006906  0.993094         1         1          1          1\n",
       "6   0.008092  0.991908         1         1          1          1\n",
       "7   0.003062  0.996938         1         1          1          1\n",
       "8   0.870774  0.129226         0         0          0          1\n",
       "9   0.862584  0.137416         0         0          0          1"
      ]
     },
     "execution_count": 13,
     "metadata": {},
     "output_type": "execute_result"
    }
   ],
   "source": [
    "# 良性（benign）クラスの予測確率が 0.4、0.3、0.15、0.05 以上なら、それぞれの列に 1 を設定する\n",
    "for threshold in [0.4, 0.3, 0.15, 0.05]:\n",
    "    results[f'flag_{threshold}'] = results['benign'].map(lambda x: 1 if x > threshold else 0)\n",
    "\n",
    "# 先頭の 10 行を表示\n",
    "results.head(10)\n"
   ]
  },
  {
   "cell_type": "code",
   "execution_count": 14,
   "id": "e89a1ee8",
   "metadata": {},
   "outputs": [
    {
     "data": {
      "text/plain": [
       "<Axes: xlabel='false positive rate', ylabel='true positive rate'>"
      ]
     },
     "execution_count": 14,
     "metadata": {},
     "output_type": "execute_result"
    },
    {
     "data": {
      "image/png": "[encoded data removed]",
      "text/plain": [
       "<Figure size 640x480 with 1 Axes>"
      ]
     },
     "metadata": {},
     "output_type": "display_data"
    }
   ],
   "source": [
    "# 閾値を 0.01 から 0.99 の間で 50 通りとして、偽陽性率と真陽性率を計算\n",
    "rates = {}\n",
    "for threshold in np.linspace(0.01, 0.99, num=50):\n",
    "    labels = results['benign'].map(lambda x: 1 if x > threshold else 0)\n",
    "    m = confusion_matrix(y_test, labels)\n",
    "    rates[threshold] = {'false positive rate': m[0,1] / m[0, :].sum(),\n",
    "                        'true positive rate': m[1,1] / m[1, :].sum()}\n",
    "\n",
    "# 横軸を false positive rate、縦軸を true positive rate としてプロット\n",
    "pd.DataFrame(rates).T.plot.scatter('false positive rate', 'true positive rate')"
   ]
  },
  {
   "cell_type": "code",
   "execution_count": 15,
   "id": "5437e794",
   "metadata": {},
   "outputs": [],
   "source": [
    "# インポート\n",
    "from sklearn import svm\n",
    "from sklearn.metrics import roc_curve, auc\n",
    "\n",
    "# 乳がんのデータを読み込み\n",
    "cancer = load_breast_cancer()\n",
    "\n",
    "# 訓練データとテストデータに分ける\n",
    "X_train, X_test, y_train, y_test = train_test_split(\n",
    "    cancer.data, cancer.target, test_size=0.5, random_state=66)\n",
    "\n",
    "# SVC による予測確率の取得\n",
    "model = svm.SVC(kernel='linear', probability=True, random_state=0)\n",
    "model.fit(X_train, y_train)\n",
    "\n",
    "# 予測確率を取得\n",
    "y_pred = model.predict_proba(X_test)[:, 1]"
   ]
  },
  {
   "cell_type": "code",
   "execution_count": 16,
   "id": "5736083d",
   "metadata": {},
   "outputs": [
    {
     "data": {
      "text/plain": [
       "<matplotlib.legend.Legend at 0x12cdb4cd0>"
      ]
     },
     "execution_count": 16,
     "metadata": {},
     "output_type": "execute_result"
    },
    {
     "data": {
      "image/png": "[encoded data removed]",
      "text/plain": [
       "<Figure size 640x480 with 1 Axes>"
      ]
     },
     "metadata": {},
     "output_type": "display_data"
    }
   ],
   "source": [
    "# 偽陽性率と真陽性率の算出\n",
    "fpr, tpr, thresholds = roc_curve(y_test, y_pred)\n",
    "\n",
    "# AUC の算出\n",
    "auc = auc(fpr, tpr)\n",
    "\n",
    "# ROC 曲線の描画\n",
    "plt.plot(fpr, tpr, color='red', label='ROC curve (area = %.3f)' % auc)\n",
    "plt.plot([0, 1], [0, 1], color='black', linestyle='--')\n",
    "\n",
    "plt.xlim([0.0, 1.0])\n",
    "plt.ylim([0.0, 1.05])\n",
    "plt.xlabel('False positive rate')\n",
    "plt.ylabel('True positive rate')\n",
    "plt.title('Receiver operating characteristic')\n",
    "plt.legend(loc=\"best\")\n"
   ]
  },
  {
   "cell_type": "code",
   "execution_count": 18,
   "id": "a5b822ae",
   "metadata": {},
   "outputs": [
    {
     "data": {
      "text/html": [
       "<div>\n",
       "<style scoped>\n",
       "    .dataframe tbody tr th:only-of-type {\n",
       "        vertical-align: middle;\n",
       "    }\n",
       "\n",
       "    .dataframe tbody tr th {\n",
       "        vertical-align: top;\n",
       "    }\n",
       "\n",
       "    .dataframe thead th {\n",
       "        text-align: right;\n",
       "    }\n",
       "</style>\n",
       "<table border=\"1\" class=\"dataframe\">\n",
       "  <thead>\n",
       "    <tr style=\"text-align: right;\">\n",
       "      <th></th>\n",
       "      <th>test_score</th>\n",
       "      <th>train_score</th>\n",
       "    </tr>\n",
       "  </thead>\n",
       "  <tbody>\n",
       "    <tr>\n",
       "      <th>bagging</th>\n",
       "      <td>0.937063</td>\n",
       "      <td>0.950704</td>\n",
       "    </tr>\n",
       "    <tr>\n",
       "      <th>kNN</th>\n",
       "      <td>0.923077</td>\n",
       "      <td>0.948357</td>\n",
       "    </tr>\n",
       "  </tbody>\n",
       "</table>\n",
       "</div>"
      ],
      "text/plain": [
       "         test_score  train_score\n",
       "bagging    0.937063     0.950704\n",
       "kNN        0.923077     0.948357"
      ]
     },
     "execution_count": 18,
     "metadata": {},
     "output_type": "execute_result"
    }
   ],
   "source": [
    "# インポート\n",
    "from sklearn.ensemble import BaggingClassifier\n",
    "from sklearn.neighbors import KNeighborsClassifier\n",
    "from sklearn.model_selection import train_test_split\n",
    "\n",
    "# 乳がんのデータを読み込み\n",
    "cancer = load_breast_cancer()\n",
    "\n",
    "# 訓練データとテストデータに分ける\n",
    "X_train, X_test, y_train, y_test = train_test_split(\n",
    "    cancer.data, cancer.target, stratify = cancer.target, random_state=66)\n",
    "\n",
    "# k-NNモデルとそのバギングの設定\n",
    "models = {\n",
    "    'kNN': KNeighborsClassifier(),\n",
    "    'bagging': BaggingClassifier(KNeighborsClassifier(), n_estimators=100, random_state=0)\n",
    "}\n",
    "\n",
    "# モデル構築\n",
    "scores = {}\n",
    "for model_name, model in models.items():\n",
    "    model.fit(X_train, y_train)\n",
    "    scores[(model_name, 'train_score')] = model.score(X_train, y_train)\n",
    "    scores[(model_name, 'test_score')] = model.score(X_test, y_test)\n",
    "\n",
    "# 結果を表示\n",
    "pd.Series(scores).unstack()"
   ]
  },
  {
   "cell_type": "code",
   "execution_count": null,
   "id": "92130279",
   "metadata": {},
   "outputs": [
    {
     "name": "stdout",
     "output_type": "stream",
     "text": [
      "train score: 0.964\n",
      "test score: 1.000\n"
     ]
    }
   ],
   "source": [
    "from sklearn.datasets import load_iris\n",
    "from sklearn.model_selection import train_test_split\n",
    "\n",
    "iris = load_iris()\n",
    "\n",
    "X_train, X_test, y_train, y_test = train_test_split(\n",
    "    iris.data, iris.target, stratify=iris.target, random_state=0)\n",
    "\n",
    "model = BaggingClassifier(KNeighborsClassifier(), n_estimators=100, random_state=0)\n",
    "model.fit(X_train, y_train)\n",
    "\n",
    "print('train score: {:.3f}'.format(model.score(X_train, y_train)))\n",
    "print('test score: {:.3f}'.format(model.score(X_test, y_test)))"
   ]
  },
  {
   "cell_type": "code",
   "execution_count": 27,
   "id": "1536ffc5",
   "metadata": {},
   "outputs": [
    {
     "name": "stdout",
     "output_type": "stream",
     "text": [
      "          test_score  train_score\n",
      "AdaBoost    0.441671     0.424245\n",
      "tree        0.611390     1.000000\n"
     ]
    }
   ],
   "source": [
    "# インポート\n",
    "import pandas as pd\n",
    "from sklearn.datasets import fetch_california_housing\n",
    "from sklearn.model_selection import train_test_split\n",
    "from sklearn.tree import DecisionTreeRegressor\n",
    "from sklearn.ensemble import AdaBoostRegressor\n",
    "\n",
    "# データ読み込み\n",
    "cal = fetch_california_housing()\n",
    "X_train, X_test, y_train, y_test = train_test_split(\n",
    "    cal.data, cal.target, random_state=66\n",
    ")\n",
    "\n",
    "# モデル定義（木とAdaBoost）\n",
    "models = {\n",
    "    \"tree\": DecisionTreeRegressor(random_state=0),\n",
    "    # scikit-learn 1.2+ は base_estimator ではなく estimator\n",
    "    \"AdaBoost\": AdaBoostRegressor(\n",
    "        estimator=DecisionTreeRegressor(max_depth=3, random_state=0),\n",
    "        random_state=0\n",
    "    ),\n",
    "}\n",
    "\n",
    "# 学習と評価（R^2スコア）\n",
    "scores = {}\n",
    "for name, model in models.items():\n",
    "    model.fit(X_train, y_train)\n",
    "    scores[(name, \"train_score\")] = model.score(X_train, y_train)\n",
    "    scores[(name, \"test_score\")]  = model.score(X_test, y_test)\n",
    "\n",
    "# 結果表示\n",
    "print(pd.Series(scores).unstack())\n"
   ]
  },
  {
   "cell_type": "code",
   "execution_count": null,
   "id": "2811d27c",
   "metadata": {},
   "outputs": [],
   "source": [
    "from sklearn.datasets import load_iris\n",
    "from sklearn.model_selection import train_test_split\n",
    "from sklearn.ensemble import AdaBoostClassifier\n",
    "from sklearn.tree import DecisionTreeClassifier\n",
    "\n",
    "iris = load_iris()\n",
    "\n",
    "# 訓練データとテストデータに分割\n",
    "X_train, X_test, y_train, y_test = train_test_split(\n",
    "    iris.data, iris.target, stratify=iris.target, random_state=0)\n",
    "\n",
    "# AdaBoostモデルの作成と学習\n",
    "model = AdaBoostClassifier(\n",
    "    base_estimator=DecisionTreeClassifier(max_depth=1, random_state=0),\n",
    "    n_estimators=100,\n",
    "    random_state=0\n",
    ")\n",
    "model.fit(X_train, y_train)\n",
    "\n",
    "print('train score: {:.3f}'.format(model.score(X_train, y_train)))\n",
    "print('test score: {:.3f}'.format(model.score(X_test, y_test)))"
   ]
  },
  {
   "cell_type": "code",
   "execution_count": 29,
   "id": "5989a502",
   "metadata": {},
   "outputs": [
    {
     "ename": "NameError",
     "evalue": "name 'load_boston' is not defined",
     "output_type": "error",
     "traceback": [
      "\u001b[31m---------------------------------------------------------------------------\u001b[39m",
      "\u001b[31mNameError\u001b[39m                                 Traceback (most recent call last)",
      "\u001b[36mCell\u001b[39m\u001b[36m \u001b[39m\u001b[32mIn[29]\u001b[39m\u001b[32m, line 5\u001b[39m\n\u001b[32m      2\u001b[39m \u001b[38;5;28;01mfrom\u001b[39;00m\u001b[38;5;250m \u001b[39m\u001b[34;01msklearn\u001b[39;00m\u001b[34;01m.\u001b[39;00m\u001b[34;01mensemble\u001b[39;00m\u001b[38;5;250m \u001b[39m\u001b[38;5;28;01mimport\u001b[39;00m RandomForestRegressor, GradientBoostingRegressor\n\u001b[32m      4\u001b[39m \u001b[38;5;66;03m# Housingデータを読み込み\u001b[39;00m\n\u001b[32m----> \u001b[39m\u001b[32m5\u001b[39m boston = \u001b[43mload_boston\u001b[49m()\n\u001b[32m      7\u001b[39m \u001b[38;5;66;03m# 訓練データとテストデータに分ける\u001b[39;00m\n\u001b[32m      8\u001b[39m X_train, X_test, y_train, y_test = train_test_split(\n\u001b[32m      9\u001b[39m     boston.data, boston.target, random_state=\u001b[32m66\u001b[39m)\n",
      "\u001b[31mNameError\u001b[39m: name 'load_boston' is not defined"
     ]
    }
   ],
   "source": [
    "# インポート\n",
    "from sklearn.ensemble import RandomForestRegressor, GradientBoostingRegressor\n",
    "\n",
    "# Housingデータを読み込み\n",
    "boston = load_boston()\n",
    "\n",
    "# 訓練データとテストデータに分ける\n",
    "X_train, X_test, y_train, y_test = train_test_split(\n",
    "    boston.data, boston.target, random_state=66)\n",
    "\n",
    "# ランダムフォレストと勾配ブースティングのパラメータ設定\n",
    "models = {\n",
    "    'RandomForest': RandomForestRegressor(random_state=0),\n",
    "    'GradientBoost': GradientBoostingRegressor(random_state=0)\n",
    "}\n",
    "\n",
    "# モデル構築\n",
    "scores = {}\n",
    "for model_name, model in models.items():\n",
    "    model.fit(X_train, y_train)\n",
    "    scores[(model_name, 'train_score')] = model.score(X_train, y_train)\n",
    "    scores[(model_name, 'test_score')] = model.score(X_test, y_test)\n",
    "\n",
    "pd.Series(scores).unstack()\n"
   ]
  }
 ],
 "metadata": {
  "kernelspec": {
   "display_name": ".venv",
   "language": "python",
   "name": "python3"
  },
  "language_info": {
   "codemirror_mode": {
    "name": "ipython",
    "version": 3
   },
   "file_extension": ".py",
   "mimetype": "text/x-python",
   "name": "python",
   "nbconvert_exporter": "python",
   "pygments_lexer": "ipython3",
   "version": "3.11.7"
  }
 },
 "nbformat": 4,
 "nbformat_minor": 5
}
