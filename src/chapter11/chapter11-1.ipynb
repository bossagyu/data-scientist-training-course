{
 "cells": [
  {
   "cell_type": "code",
   "execution_count": 3,
   "id": "e28a2b04",
   "metadata": {},
   "outputs": [
    {
     "data": {
      "text/plain": [
       "'%.3f'"
      ]
     },
     "execution_count": 3,
     "metadata": {},
     "output_type": "execute_result"
    }
   ],
   "source": [
    "# 以下は必要なライブラリのため、あらかじめ読み込んでおいてください。\n",
    "import numpy as np\n",
    "import numpy.random as random\n",
    "import scipy as sp\n",
    "from pandas import Series,DataFrame\n",
    "import pandas as pd\n",
    "import time\n",
    "\n",
    "# 可視化ライブラリ\n",
    "import matplotlib.pyplot as plt\n",
    "import matplotlib as mpl\n",
    "import seaborn as sns\n",
    "%matplotlib inline\n",
    "\n",
    "# 機械学習ライブラリ\n",
    "import sklearn\n",
    "\n",
    "# 小数第３位まで表示\n",
    "%precision 3\n"
   ]
  },
  {
   "cell_type": "code",
   "execution_count": 5,
   "id": "8e636425",
   "metadata": {},
   "outputs": [
    {
     "data": {
      "image/png": "[encoded data removed]",
      "text/plain": [
       "<Figure size 2000x500 with 10 Axes>"
      ]
     },
     "metadata": {},
     "output_type": "display_data"
    }
   ],
   "source": [
    "# 分析対象データ\n",
    "from sklearn.datasets import load_digits\n",
    "\n",
    "digits = load_digits()\n",
    "\n",
    "# 画像の表示\n",
    "plt.figure(figsize=(20,5))\n",
    "for label, img in zip(digits.target[:10], digits.images[:10]):\n",
    "    plt.subplot(1,10,label+1)\n",
    "    plt.axis('off')\n",
    "    plt.imshow(img,cmap=plt.cm.gray_r,interpolation='nearest')\n",
    "    plt.title('Number:{0}'.format(label))\n"
   ]
  },
  {
   "cell_type": "code",
   "execution_count": 6,
   "id": "66810ff4",
   "metadata": {},
   "outputs": [
    {
     "name": "stdout",
     "output_type": "stream",
     "text": [
      "dict_keys(['data', 'target', 'frame', 'feature_names', 'target_names', 'images', 'DESCR'])\n",
      "(1797, 8, 8)\n",
      "[[ 0.  0.  5. 13.  9.  1.  0.  0.]\n",
      " [ 0.  0. 13. 15. 10. 15.  5.  0.]\n",
      " [ 0.  3. 15.  2.  0. 11.  8.  0.]\n",
      " [ 0.  4. 12.  0.  0.  8.  8.  0.]\n",
      " [ 0.  5.  8.  0.  0.  9.  8.  0.]\n",
      " [ 0.  4. 11.  0.  1. 12.  7.  0.]\n",
      " [ 0.  2. 14.  5. 10. 12.  0.  0.]\n",
      " [ 0.  0.  6. 13. 10.  0.  0.  0.]]\n",
      "(1797, 64)\n",
      "[ 0.  0.  5. 13.  9.  1.  0.  0.  0.  0. 13. 15. 10. 15.  5.  0.  0.  3.\n",
      " 15.  2.  0. 11.  8.  0.  0.  4. 12.  0.  0.  8.  8.  0.  0.  5.  8.  0.\n",
      "  0.  9.  8.  0.  0.  4. 11.  0.  1. 12.  7.  0.  0.  2. 14.  5. 10. 12.\n",
      "  0.  0.  0.  0.  6. 13. 10.  0.  0.  0.]\n",
      "(1797,)\n",
      "[0 1 2 3 4 5 6 7 8 9]\n",
      ".. _digits_dataset:\n",
      "\n",
      "Optical recognition of handwritten digits dataset\n",
      "--------------------------------------------------\n",
      "\n",
      "**Data Set Characteristics:**\n",
      "\n",
      ":Number of Instances: 1797\n",
      ":Number of Attributes: 64\n",
      ":Attribute Information: 8x8 image of integer pixels in the range 0..16.\n",
      ":Missing Attribute Values: None\n",
      ":Creator: E. Alpaydin (alpaydin '@' boun.edu.tr)\n",
      ":Date: July; 1998\n",
      "\n",
      "This is a copy of the test set of the UCI ML hand-written digits datasets\n",
      "https://archive.ics.uci.edu/ml/datasets/Optical+Recognition+of+Handwritten+Digits\n",
      "\n",
      "The data set contains images of hand-written digits: 10 classes where\n",
      "each class refers to a digit.\n",
      "\n",
      "Preprocessing programs made available by NIST were used to extract\n",
      "normalized bitmaps of handwritten digits from a preprinted form. From a\n",
      "total of 43 people, 30 contributed to the training set and different 13\n",
      "to the test set. 32x32 bitmaps are divided into nonoverlapping blocks of\n",
      "4x4 and the number of on pixels are counted in each block. This generates\n",
      "an input matrix of 8x8 where each element is an integer in the range\n",
      "0..16. This reduces dimensionality and gives invariance to small\n",
      "distortions.\n",
      "\n",
      "For info on NIST preprocessing routines, see M. D. Garris, J. L. Blue, G.\n",
      "T. Candela, D. L. Dimmick, J. Geist, P. J. Grother, S. A. Janet, and C.\n",
      "L. Wilson, NIST Form-Based Handprint Recognition System, NISTIR 5469,\n",
      "1994.\n",
      "\n",
      ".. dropdown:: References\n",
      "\n",
      "  - C. Kaynak (1995) Methods of Combining Multiple Classifiers and Their\n",
      "    Applications to Handwritten Digit Recognition, MSc Thesis, Institute of\n",
      "    Graduate Studies in Science and Engineering, Bogazici University.\n",
      "  - E. Alpaydin, C. Kaynak (1998) Cascading Classifiers, Kybernetika.\n",
      "  - Ken Tang and Ponnuthurai N. Suganthan and Xi Yao and A. Kai Qin.\n",
      "    Linear dimensionalityreduction using relevance weighted LDA. School of\n",
      "    Electrical and Electronic Engineering Nanyang Technological University.\n",
      "    2005.\n",
      "  - Claudio Gentile. A New Approximate Maximal Margin Classification\n",
      "    Algorithm. NIPS. 2000.\n",
      "\n"
     ]
    }
   ],
   "source": [
    "# データセットのキー一覧を表示\n",
    "print(digits.keys())\n",
    "\n",
    "# 画像データ（8x8画像が1797枚）\n",
    "print(digits.images.shape)\n",
    "print(digits.images[0])  # 1枚目の画像データ\n",
    "\n",
    "# 特徴量データ（各画像を1次元配列にしたもの）\n",
    "print(digits.data.shape)\n",
    "print(digits.data[0])    # 1枚目の特徴量\n",
    "\n",
    "# 正解ラベル\n",
    "print(digits.target.shape)\n",
    "print(digits.target[:10])  # 最初の10個のラベル\n",
    "\n",
    "# データセットの説明\n",
    "print(digits.DESCR)\n"
   ]
  },
  {
   "cell_type": "code",
   "execution_count": 7,
   "id": "b1b65dfa",
   "metadata": {},
   "outputs": [
    {
     "name": "stdout",
     "output_type": "stream",
     "text": [
      "画像データの形状: (1797, 8, 8)\n",
      "特徴量データの形状: (1797, 64)\n",
      "ラベルの形状: (1797,)\n",
      "サンプル数（行数）: 1797\n",
      "特徴量数（列数）: 64\n"
     ]
    }
   ],
   "source": [
    "# データの要約\n",
    "print(\"画像データの形状:\", digits.images.shape)  # (1797, 8, 8)\n",
    "print(\"特徴量データの形状:\", digits.data.shape)  # (1797, 64)\n",
    "print(\"ラベルの形状:\", digits.target.shape)      # (1797,)\n",
    "\n",
    "print(f\"サンプル数（行数）: {digits.data.shape[0]}\")\n",
    "print(f\"特徴量数（列数）: {digits.data.shape[1]}\")"
   ]
  },
  {
   "cell_type": "code",
   "execution_count": 8,
   "id": "d920d43a",
   "metadata": {},
   "outputs": [
    {
     "name": "stdout",
     "output_type": "stream",
     "text": [
      "学習データの形状: (1437, 64) (1437,)\n",
      "テストデータの形状: (360, 64) (360,)\n"
     ]
    }
   ],
   "source": [
    "from sklearn.model_selection import train_test_split\n",
    "\n",
    "# 特徴量データとラベルを取得\n",
    "X = digits.data\n",
    "y = digits.target\n",
    "\n",
    "# 学習データとテストデータに分割（テストデータは全体の20%）\n",
    "X_train, X_test, y_train, y_test = train_test_split(\n",
    "    X, y, test_size=0.2, random_state=0, stratify=y\n",
    ")\n",
    "\n",
    "print(\"学習データの形状:\", X_train.shape, y_train.shape)\n",
    "print(\"テストデータの形状:\", X_test.shape, y_test.shape)"
   ]
  },
  {
   "cell_type": "code",
   "execution_count": 9,
   "id": "fe0d9501",
   "metadata": {},
   "outputs": [
    {
     "name": "stdout",
     "output_type": "stream",
     "text": [
      "学習データの正解率: 1.0\n",
      "テストデータの正解率: 0.9583333333333334\n",
      "\n",
      "テストデータの分類レポート:\n",
      "              precision    recall  f1-score   support\n",
      "\n",
      "           0       1.00      0.97      0.99        36\n",
      "           1       0.85      0.97      0.91        36\n",
      "           2       1.00      0.97      0.99        35\n",
      "           3       0.97      1.00      0.99        37\n",
      "           4       0.97      0.94      0.96        36\n",
      "           5       0.97      0.95      0.96        37\n",
      "           6       0.97      0.97      0.97        36\n",
      "           7       0.97      0.97      0.97        36\n",
      "           8       0.94      0.86      0.90        35\n",
      "           9       0.95      0.97      0.96        36\n",
      "\n",
      "    accuracy                           0.96       360\n",
      "   macro avg       0.96      0.96      0.96       360\n",
      "weighted avg       0.96      0.96      0.96       360\n",
      "\n",
      "テストデータの混同行列:\n",
      "[[35  0  0  0  1  0  0  0  0  0]\n",
      " [ 0 35  0  0  0  0  0  0  1  0]\n",
      " [ 0  1 34  0  0  0  0  0  0  0]\n",
      " [ 0  0  0 37  0  0  0  0  0  0]\n",
      " [ 0  1  0  0 34  0  0  0  1  0]\n",
      " [ 0  0  0  1  0 35  0  1  0  0]\n",
      " [ 0  1  0  0  0  0 35  0  0  0]\n",
      " [ 0  0  0  0  0  0  0 35  0  1]\n",
      " [ 0  3  0  0  0  0  1  0 30  1]\n",
      " [ 0  0  0  0  0  1  0  0  0 35]]\n"
     ]
    }
   ],
   "source": [
    "from sklearn.linear_model import LogisticRegression\n",
    "from sklearn.metrics import accuracy_score, classification_report, confusion_matrix\n",
    "\n",
    "# ロジスティック回帰モデルの作成と学習\n",
    "logreg = LogisticRegression(max_iter=1000, random_state=0)\n",
    "logreg.fit(X_train, y_train)\n",
    "\n",
    "# 予測\n",
    "y_pred_train = logreg.predict(X_train)\n",
    "y_pred_test = logreg.predict(X_test)\n",
    "\n",
    "# 精度の表示\n",
    "print('学習データの正解率:', accuracy_score(y_train, y_pred_train))\n",
    "print('テストデータの正解率:', accuracy_score(y_test, y_pred_test))\n",
    "\n",
    "# 詳細な分類レポート\n",
    "print('\\nテストデータの分類レポート:')\n",
    "print(classification_report(y_test, y_pred_test))\n",
    "\n",
    "# 混同行列\n",
    "print('テストデータの混同行列:')\n",
    "print(confusion_matrix(y_test, y_pred_test))"
   ]
  },
  {
   "cell_type": "code",
   "execution_count": 10,
   "id": "e477d112",
   "metadata": {},
   "outputs": [
    {
     "name": "stdout",
     "output_type": "stream",
     "text": [
      "【k近傍法】\n",
      "学習データの正解率: 0.9909533750869868\n",
      "テストデータの正解率: 0.9777777777777777\n",
      "\n",
      "テストデータの分類レポート:\n",
      "              precision    recall  f1-score   support\n",
      "\n",
      "           0       1.00      1.00      1.00        36\n",
      "           1       0.95      1.00      0.97        36\n",
      "           2       1.00      1.00      1.00        35\n",
      "           3       0.95      0.95      0.95        37\n",
      "           4       1.00      0.94      0.97        36\n",
      "           5       0.97      1.00      0.99        37\n",
      "           6       1.00      1.00      1.00        36\n",
      "           7       0.97      1.00      0.99        36\n",
      "           8       0.94      0.94      0.94        35\n",
      "           9       1.00      0.94      0.97        36\n",
      "\n",
      "    accuracy                           0.98       360\n",
      "   macro avg       0.98      0.98      0.98       360\n",
      "weighted avg       0.98      0.98      0.98       360\n",
      "\n",
      "テストデータの混同行列:\n",
      "[[36  0  0  0  0  0  0  0  0  0]\n",
      " [ 0 36  0  0  0  0  0  0  0  0]\n",
      " [ 0  0 35  0  0  0  0  0  0  0]\n",
      " [ 0  0  0 35  0  0  0  1  1  0]\n",
      " [ 0  1  0  0 34  0  0  0  1  0]\n",
      " [ 0  0  0  0  0 37  0  0  0  0]\n",
      " [ 0  0  0  0  0  0 36  0  0  0]\n",
      " [ 0  0  0  0  0  0  0 36  0  0]\n",
      " [ 0  1  0  1  0  0  0  0 33  0]\n",
      " [ 0  0  0  1  0  1  0  0  0 34]]\n"
     ]
    }
   ],
   "source": [
    "from sklearn.neighbors import KNeighborsClassifier\n",
    "from sklearn.metrics import accuracy_score, classification_report, confusion_matrix\n",
    "\n",
    "# k近傍法モデルの作成と学習（k=5）\n",
    "knn = KNeighborsClassifier(n_neighbors=5)\n",
    "knn.fit(X_train, y_train)\n",
    "\n",
    "# 予測\n",
    "y_pred_train_knn = knn.predict(X_train)\n",
    "y_pred_test_knn = knn.predict(X_test)\n",
    "\n",
    "# 精度の表示\n",
    "print('【k近傍法】')\n",
    "print('学習データの正解率:', accuracy_score(y_train, y_pred_train_knn))\n",
    "print('テストデータの正解率:', accuracy_score(y_test, y_pred_test_knn))\n",
    "\n",
    "# 詳細な分類レポート\n",
    "print('\\nテストデータの分類レポート:')\n",
    "print(classification_report(y_test, y_pred_test_knn))\n",
    "\n",
    "# 混同行列\n",
    "print('テストデータの混同行列:')\n",
    "print(confusion_matrix(y_test, y_pred_test_knn))"
   ]
  },
  {
   "cell_type": "code",
   "execution_count": 11,
   "id": "5dc21742",
   "metadata": {},
   "outputs": [
    {
     "name": "stdout",
     "output_type": "stream",
     "text": [
      "【SVM】\n",
      "学習データの正解率: 0.9958246346555324\n",
      "テストデータの正解率: 0.9833333333333333\n",
      "\n",
      "テストデータの分類レポート:\n",
      "              precision    recall  f1-score   support\n",
      "\n",
      "           0       1.00      1.00      1.00        36\n",
      "           1       0.95      1.00      0.97        36\n",
      "           2       1.00      1.00      1.00        35\n",
      "           3       1.00      0.97      0.99        37\n",
      "           4       1.00      0.94      0.97        36\n",
      "           5       0.97      1.00      0.99        37\n",
      "           6       1.00      1.00      1.00        36\n",
      "           7       0.97      1.00      0.99        36\n",
      "           8       0.94      0.94      0.94        35\n",
      "           9       1.00      0.97      0.99        36\n",
      "\n",
      "    accuracy                           0.98       360\n",
      "   macro avg       0.98      0.98      0.98       360\n",
      "weighted avg       0.98      0.98      0.98       360\n",
      "\n",
      "テストデータの混同行列:\n",
      "[[36  0  0  0  0  0  0  0  0  0]\n",
      " [ 0 36  0  0  0  0  0  0  0  0]\n",
      " [ 0  0 35  0  0  0  0  0  0  0]\n",
      " [ 0  0  0 36  0  0  0  1  0  0]\n",
      " [ 0  0  0  0 34  0  0  0  2  0]\n",
      " [ 0  0  0  0  0 37  0  0  0  0]\n",
      " [ 0  0  0  0  0  0 36  0  0  0]\n",
      " [ 0  0  0  0  0  0  0 36  0  0]\n",
      " [ 0  2  0  0  0  0  0  0 33  0]\n",
      " [ 0  0  0  0  0  1  0  0  0 35]]\n"
     ]
    }
   ],
   "source": [
    "from sklearn.svm import SVC\n",
    "from sklearn.metrics import accuracy_score, classification_report, confusion_matrix\n",
    "\n",
    "# SVMモデルの作成と学習（RBFカーネル）\n",
    "svm = SVC(kernel='rbf', gamma='scale', random_state=0)\n",
    "svm.fit(X_train, y_train)\n",
    "\n",
    "# 予測\n",
    "y_pred_train_svm = svm.predict(X_train)\n",
    "y_pred_test_svm = svm.predict(X_test)\n",
    "\n",
    "# 精度の表示\n",
    "print('【SVM】')\n",
    "print('学習データの正解率:', accuracy_score(y_train, y_pred_train_svm))\n",
    "print('テストデータの正解率:', accuracy_score(y_test, y_pred_test_svm))\n",
    "\n",
    "# 詳細な分類レポート\n",
    "print('\\nテストデータの分類レポート:')\n",
    "print(classification_report(y_test, y_pred_test_svm))\n",
    "\n",
    "# 混同行列\n",
    "print('テストデータの混同行列:')\n",
    "print(confusion_matrix(y_test, y_pred_test_svm))"
   ]
  },
  {
   "cell_type": "code",
   "execution_count": 12,
   "id": "114b475f",
   "metadata": {},
   "outputs": [
    {
     "name": "stdout",
     "output_type": "stream",
     "text": [
      "【勾配ブースティング】\n",
      "学習データの正解率: 1.0\n",
      "テストデータの正解率: 0.9583333333333334\n",
      "\n",
      "テストデータの分類レポート:\n",
      "              precision    recall  f1-score   support\n",
      "\n",
      "           0       1.00      1.00      1.00        36\n",
      "           1       0.95      0.97      0.96        36\n",
      "           2       1.00      1.00      1.00        35\n",
      "           3       0.92      0.92      0.92        37\n",
      "           4       1.00      0.94      0.97        36\n",
      "           5       0.97      0.95      0.96        37\n",
      "           6       1.00      0.92      0.96        36\n",
      "           7       0.97      1.00      0.99        36\n",
      "           8       0.87      0.94      0.90        35\n",
      "           9       0.92      0.94      0.93        36\n",
      "\n",
      "    accuracy                           0.96       360\n",
      "   macro avg       0.96      0.96      0.96       360\n",
      "weighted avg       0.96      0.96      0.96       360\n",
      "\n",
      "テストデータの混同行列:\n",
      "[[36  0  0  0  0  0  0  0  0  0]\n",
      " [ 0 35  0  0  0  0  0  0  0  1]\n",
      " [ 0  0 35  0  0  0  0  0  0  0]\n",
      " [ 0  0  0 34  0  0  0  1  2  0]\n",
      " [ 0  0  0  0 34  1  0  0  1  0]\n",
      " [ 0  0  0  0  0 35  0  0  0  2]\n",
      " [ 0  0  0  1  0  0 33  0  2  0]\n",
      " [ 0  0  0  0  0  0  0 36  0  0]\n",
      " [ 0  2  0  0  0  0  0  0 33  0]\n",
      " [ 0  0  0  2  0  0  0  0  0 34]]\n"
     ]
    }
   ],
   "source": [
    "from sklearn.ensemble import GradientBoostingClassifier\n",
    "from sklearn.metrics import accuracy_score, classification_report, confusion_matrix\n",
    "\n",
    "# 勾配ブースティングモデルの作成と学習\n",
    "gbc = GradientBoostingClassifier(random_state=0)\n",
    "gbc.fit(X_train, y_train)\n",
    "\n",
    "# 予測\n",
    "y_pred_train_gbc = gbc.predict(X_train)\n",
    "y_pred_test_gbc = gbc.predict(X_test)\n",
    "\n",
    "# 精度の表示\n",
    "print('【勾配ブースティング】')\n",
    "print('学習データの正解率:', accuracy_score(y_train, y_pred_train_gbc))\n",
    "print('テストデータの正解率:', accuracy_score(y_test, y_pred_test_gbc))\n",
    "\n",
    "# 詳細な分類レポート\n",
    "print('\\nテストデータの分類レポート:')\n",
    "print(classification_report(y_test, y_pred_test_gbc))\n",
    "\n",
    "# 混同行列\n",
    "print('テストデータの混同行列:')\n",
    "print(confusion_matrix(y_test, y_pred_test_gbc))"
   ]
  }
 ],
 "metadata": {
  "kernelspec": {
   "display_name": ".venv",
   "language": "python",
   "name": "python3"
  },
  "language_info": {
   "codemirror_mode": {
    "name": "ipython",
    "version": 3
   },
   "file_extension": ".py",
   "mimetype": "text/x-python",
   "name": "python",
   "nbconvert_exporter": "python",
   "pygments_lexer": "ipython3",
   "version": "3.11.7"
  }
 },
 "nbformat": 4,
 "nbformat_minor": 5
}
